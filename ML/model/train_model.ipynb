{
  "cells": [
    {
      "cell_type": "code",
      "execution_count": null,
      "metadata": {
        "colab": {
          "base_uri": "https://localhost:8080/"
        },
        "id": "FZfBf3hoCG5E",
        "outputId": "5b64c1ad-4238-4f01-e274-5cd956a51e38"
      },
      "outputs": [],
      "source": [
        "import tensorflow as tf\n",
        "from tensorflow.keras.applications.vgg19 import VGG19\n",
        "from tensorflow.keras.preprocessing.image import ImageDataGenerator\n",
        "from tensorflow.keras.models import Model\n",
        "from tensorflow.keras.layers import Flatten, Dense\n",
        "from tensorflow.keras.callbacks import ModelCheckpoint, EarlyStopping\n",
        "import os\n",
        "import json\n",
        "import time\n",
        "import sys\n",
        "import logging\n",
        "import pickle\n",
        "\n",
        "from google.colab import drive\n",
        "drive.mount('/content/drive', force_remount=True)\n",
        "\n",
        "!ls \"/content/drive/My Drive/ESS\""
      ]
    },
    {
      "cell_type": "code",
      "execution_count": 2,
      "metadata": {
        "id": "hZxvC_h4CS4K"
      },
      "outputs": [],
      "source": [
        "# Function for get date\n",
        "def genarate_date_time():\n",
        "    t = time.localtime()\n",
        "    current_time = time.strftime(\"%Y_%m_%d_%H_%M_%S\", t)\n",
        "\n",
        "    return current_time\n",
        "\n",
        "\n",
        "date_time = genarate_date_time()\n",
        "\n",
        "# Log file\n",
        "log_folder_name = \"Log_\" + date_time + \"/\"\n",
        "logpath = \"/content/drive/My Drive/ESS/\" + \"logs/\" + log_folder_name\n",
        "log_file_name = \"log_\" + date_time + \".log\"\n",
        "log_file_source = logpath + log_file_name\n",
        "\n",
        "# Output json\n",
        "output_json_name = \"json_\" + date_time\n",
        "output_json_path = \"/content/drive/My Drive/ESS/\" + \"output_Jsons/\" + output_json_name + \"/\"\n",
        "output_json_source = output_json_path + output_json_name + \".json\"\n",
        "\n",
        "# Model save\n",
        "model_name = \"model_\" + date_time\n",
        "best_model_path = \"/content/drive/My Drive/ESS/\" + \"best_model/\" + model_name\n",
        "best_model_source = best_model_path + \"/\" + model_name + \".h5\"\n",
        "\n",
        "# Pickle file\n",
        "pickle_folder = \"pickle_\" + date_time + \"/\"\n",
        "pickles_save_name = \"/content/drive/My Drive/ESS/\" + \"train_generator_pickle/\" + pickle_folder\n",
        "pickle_path = pickles_save_name + \"pickle_classes.pkl\"\n",
        "\n",
        "# Create folders\n",
        "if not os.path.exists(logpath):\n",
        "    os.makedirs(logpath)\n",
        "\n",
        "if not os.path.exists(output_json_path):\n",
        "    os.makedirs(output_json_path)\n",
        "\n",
        "if not os.path.exists(best_model_path):\n",
        "    os.makedirs(best_model_path)\n",
        "\n",
        "if not os.path.exists(pickles_save_name):\n",
        "    os.makedirs(pickles_save_name)"
      ]
    },
    {
      "cell_type": "code",
      "execution_count": 3,
      "metadata": {
        "id": "lEGgFHUrCTe7"
      },
      "outputs": [],
      "source": [
        "logging.basicConfig(filename=log_file_source,\n",
        "                    format='%(asctime)s - %(message)s', level=logging.INFO)\n",
        "logging.info('Process Started \\n \\n')\n",
        "\n",
        "\n",
        "logging.basicConfig(filename=log_file_source, filemode='w',\n",
        "                    format='%(asctime)s - %(message)s', level=logging.INFO)\n",
        "\n",
        "\n",
        "class warning:\n",
        "    def __init__(self):\n",
        "        return log_file_name\n",
        "        logging.warning()"
      ]
    },
    {
      "cell_type": "code",
      "execution_count": 6,
      "metadata": {
        "id": "aSIjsviNCW2B"
      },
      "outputs": [],
      "source": [
        "# Initializng Basic Paramemters\n",
        "train_data_dir = \"/content/drive/My Drive/ESS/Dataset/\"\n",
        "img_width = 224\n",
        "img_height = 224\n",
        "batch_size = 12\n",
        "validation_split = 0.3\n",
        "epochs = 10\n",
        "best_model_saving_destination = 'no'"
      ]
    },
    {
      "cell_type": "code",
      "execution_count": null,
      "metadata": {
        "colab": {
          "base_uri": "https://localhost:8080/"
        },
        "id": "gVSEWtvxCaJi",
        "outputId": "eba21718-fc73-4c42-cdaa-f6dfd8b577cb"
      },
      "outputs": [],
      "source": [
        "# Getting the Number of Classes for Training\n",
        "list = os.listdir(train_data_dir)\n",
        "numOfClasses = len(list)\n",
        "print(f\"{numOfClasses}\")"
      ]
    },
    {
      "cell_type": "code",
      "execution_count": null,
      "metadata": {
        "colab": {
          "base_uri": "https://localhost:8080/"
        },
        "id": "iCo8AbjPCdn-",
        "outputId": "7774069f-10f1-4ff0-9ace-51eea734e873"
      },
      "outputs": [],
      "source": [
        "# Initialize Base Models' pre-trained weights from imagenet\n",
        "model = VGG19(weights='imagenet', include_top=False,\n",
        "              input_shape=(img_width, img_height, 3))\n",
        "logging.warning(model)\n",
        "print(\"------------ Base Model Loaded ------------\")"
      ]
    },
    {
      "cell_type": "code",
      "execution_count": 9,
      "metadata": {
        "id": "2obBTgq-CfD2"
      },
      "outputs": [],
      "source": [
        "# Select layers from weight model\n",
        "for layer in model.layers[:-5]:\n",
        "    layer.trainable = False\n",
        "\n",
        "# Set input and output layers\n",
        "top_layers = model.output\n",
        "top_layers = Flatten()(top_layers)\n",
        "top_layers = Dense(numOfClasses, activation=\"softmax\")(top_layers)\n",
        "\n",
        "custom_Model = Model(inputs=model.input, outputs=top_layers)"
      ]
    },
    {
      "cell_type": "code",
      "execution_count": null,
      "metadata": {
        "colab": {
          "base_uri": "https://localhost:8080/"
        },
        "id": "L1YNMJUOCgkM",
        "outputId": "6a73fb00-932f-4375-a919-a50117b3932d"
      },
      "outputs": [],
      "source": [
        "# Add Keras Generators\n",
        "train_datagen = ImageDataGenerator(rescale=1. / 255,\n",
        "                                   shear_range=0.2,\n",
        "                                   zoom_range=0.2,\n",
        "                                   horizontal_flip=True,\n",
        "                                   validation_split=validation_split)  # set validation split\n",
        "\n",
        "train_generator = train_datagen.flow_from_directory(\n",
        "    train_data_dir,\n",
        "    target_size=(img_height, img_width),\n",
        "    batch_size=batch_size,\n",
        "    class_mode='categorical',\n",
        "    subset='training')  # set as training data\n",
        "\n",
        "validation_generator = train_datagen.flow_from_directory(\n",
        "    train_data_dir,  # same directory as training data\n",
        "    target_size=(img_height, img_width),\n",
        "    batch_size=batch_size,\n",
        "    class_mode='categorical',\n",
        "    subset='validation')  # set as validation data\n",
        "\n",
        "print(\"------------ Generators Loaded ------------\")"
      ]
    },
    {
      "cell_type": "code",
      "execution_count": null,
      "metadata": {
        "colab": {
          "base_uri": "https://localhost:8080/"
        },
        "id": "yQQEUhLeCicu",
        "outputId": "0c673f5d-1daf-41fd-9a26-92232c40e9dc"
      },
      "outputs": [],
      "source": [
        "# Create class dictionary\n",
        "init_dic = dict(train_generator.class_indices.items())\n",
        "\n",
        "# Save init_dict in pickle\n",
        "pickle.dump(init_dic, open(pickle_path, 'wb'))\n",
        "swap_dict = dict([(value, key) for key, value in init_dic.items()])\n",
        "\n",
        "# Compile model\n",
        "base_learning_rate = 0.00001\n",
        "custom_Model.compile(loss='categorical_crossentropy',\n",
        "                     optimizer=tf.keras.optimizers.Adam(\n",
        "                         lr=base_learning_rate, clipnorm=0.001),\n",
        "                     metrics=['accuracy'])\n",
        "\n",
        "\n",
        "# Save our model using specified conditions\n",
        "cp = ModelCheckpoint(best_model_source, monitor='val_acc', verbose=1,\n",
        "                     save_best_only=False, save_weights_only=False, mode='auto', period=1)\n",
        "\n",
        "# Set early stopping\n",
        "es = EarlyStopping(monitor='val_acc', min_delta=0,\n",
        "                   patience=10, verbose=1, mode='auto')\n",
        "\n",
        "print(\"------------ Model Evaluation Started ------------\")"
      ]
    },
    {
      "cell_type": "code",
      "execution_count": null,
      "metadata": {
        "colab": {
          "base_uri": "https://localhost:8080/",
          "height": 1000
        },
        "id": "SG2mm1_VCj-v",
        "outputId": "ee43ad66-c3f5-4290-873d-f5c8ce28cd26"
      },
      "outputs": [],
      "source": [
        "final_Model = ''\n",
        "\n",
        "# Model traning\n",
        "try:\n",
        "    final_Model = custom_Model.fit_generator(\n",
        "        train_generator,\n",
        "        epochs=epochs,\n",
        "        validation_data=validation_generator,\n",
        "        callbacks=[es, cp]\n",
        "    )\n",
        "\n",
        "except:\n",
        "    logging.error(\n",
        "        \"Exception occurred system will exit soon \\n \\n\", exc_info=True)\n",
        "    sys.exit(1)"
      ]
    },
    {
      "cell_type": "code",
      "execution_count": null,
      "metadata": {
        "colab": {
          "base_uri": "https://localhost:8080/",
          "height": 248
        },
        "id": "NIBs6ADyClfq",
        "outputId": "8019bba6-5bd2-4c80-9069-b082096e4f21"
      },
      "outputs": [],
      "source": [
        "# Get the history from fit_Generator Dictionary, then assign each Confident Accuracy Values & Validation Accuracy Values into separate arrays:\n",
        "con_acc = final_Model.history['acc']\n",
        "val_acc = final_Model.history['val_acc']\n",
        "\n",
        "# Output JSON file params:\n",
        "output_data = {}\n",
        "output_data['Best Confident Accuracy(%)'] = round(max(con_acc) * 100)\n",
        "output_data['Best Validation Accuracy(%)'] = round(max(val_acc) * 100)\n",
        "output_data['Best Model Path'] = best_model_source\n",
        "output_data['Swapped Indicies'] = swap_dict\n",
        "\n",
        "with open(output_json_source, 'w') as outfile:\n",
        "    json.dump(output_data, outfile)\n",
        "\n",
        "logging.warning(final_Model)\n",
        "\n",
        "# Logging info(end time)\n",
        "logging.basicConfig(filename=log_file_source,\n",
        "                    format='%(asctime)s - %(message)s', level=logging.INFO)\n",
        "logging.info('Process Ended \\n \\n')\n",
        "\n",
        "print(\"------------ Model Evaluation Completed ------------\")"
      ]
    }
  ],
  "metadata": {
    "accelerator": "GPU",
    "colab": {
      "collapsed_sections": [],
      "name": "train_model.ipynb",
      "provenance": []
    },
    "gpuClass": "standard",
    "kernelspec": {
      "display_name": "Python 3",
      "name": "python3"
    },
    "language_info": {
      "name": "python"
    }
  },
  "nbformat": 4,
  "nbformat_minor": 0
}
